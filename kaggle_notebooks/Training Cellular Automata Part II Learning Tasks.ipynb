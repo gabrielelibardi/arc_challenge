{
 "cells": [
  {
   "cell_type": "markdown",
   "metadata": {},
   "source": [
    "In my [previous notebook](https://www.kaggle.com/teddykoker/training-cellular-automata-part-i-game-of-life) we explored how we could use a CNN to create a cellular automata (CA) by recurrently passing the state of the grid through itself. Now we'll solve one of the tasks [arseny-n](https://www.kaggle.com/arsenynerinovsky/cellular-automata-as-a-language-for-reasoning) solved with a hard coded CA by learning the CA instead!"
   ]
  },
  {
   "cell_type": "code",
   "execution_count": 1,
   "metadata": {
    "_cell_guid": "b1076dfc-b9ad-4769-8c92-a6c4dae69d19",
    "_kg_hide-input": true,
    "_kg_hide-output": true,
    "_uuid": "8f2839f25d086af736a60e9eeb907d3b93b6e0e5"
   },
   "outputs": [
    {
     "name": "stderr",
     "output_type": "stream",
     "text": [
      "/home/gabbo/miniconda3/envs/arc/lib/python3.7/site-packages/torch/cuda/__init__.py:52: UserWarning: CUDA initialization: CUDA unknown error - this may be due to an incorrectly set up environment, e.g. changing env variable CUDA_VISIBLE_DEVICES after program start. Setting the available devices to be zero. (Triggered internally at  /opt/conda/conda-bld/pytorch_1631630836880/work/c10/cuda/CUDAFunctions.cpp:115.)\n",
      "  return torch._C._cuda_getDeviceCount() > 0\n"
     ]
    }
   ],
   "source": [
    "import os\n",
    "import json\n",
    "import numpy as np\n",
    "from pathlib import Path\n",
    "\n",
    "import torch\n",
    "import torch.nn as nn\n",
    "import torch.nn.functional as F\n",
    "\n",
    "from tqdm import tqdm\n",
    "import matplotlib.pyplot as plt\n",
    "from matplotlib import colors\n",
    "from matplotlib import animation, rc\n",
    "from IPython.display import HTML\n",
    "\n",
    "rc('animation', html='jshtml')\n",
    "device = torch.device('cuda:1' if torch.cuda.is_available() else 'cpu')"
   ]
  },
  {
   "cell_type": "code",
   "execution_count": 4,
   "metadata": {
    "_kg_hide-input": true,
    "_kg_hide-output": true
   },
   "outputs": [],
   "source": [
    "data_path = Path('../data/abstraction-and-reasoning-challenge')\n",
    "train_path = data_path / 'training'\n",
    "valid_path = data_path / 'evaluation'\n",
    "test_path = data_path / 'test'\n",
    "\n",
    "train_tasks = { task.stem: json.load(task.open()) for task in train_path.iterdir() } \n",
    "valid_tasks = { task.stem: json.load(task.open()) for task in valid_path.iterdir() } "
   ]
  },
  {
   "cell_type": "code",
   "execution_count": 5,
   "metadata": {
    "_kg_hide-input": true,
    "_kg_hide-output": true
   },
   "outputs": [],
   "source": [
    "cmap = colors.ListedColormap(\n",
    "        ['#000000', '#0074D9','#FF4136','#2ECC40','#FFDC00',\n",
    "         '#AAAAAA', '#F012BE', '#FF851B', '#7FDBFF', '#870C25'])\n",
    "norm = colors.Normalize(vmin=0, vmax=9)\n",
    "    \n",
    "def c(pictures, labels):\n",
    "    fig, axs = plt.subplots(1, len(pictures), figsize=(2*len(pictures),32))\n",
    "    for i, (pict, label) in enumerate(zip(pictures, labels)):\n",
    "        axs[i].imshow(np.array(pict), cmap=cmap, norm=norm)\n",
    "        axs[i].set_title(label)\n",
    "    plt.show()\n",
    "    \n",
    "def plot_sample(sample, predict=None):\n",
    "    if predict is None:\n",
    "        plot_pictures([sample['input'], sample['output']], ['Input', 'Output'])\n",
    "    else:\n",
    "        plot_pictures([sample['input'], sample['output'], predict], ['Input', 'Output', 'Predict'])\n",
    "        \n",
    "def inp2img(inp):\n",
    "    inp = np.array(inp)\n",
    "    img = np.full((10, inp.shape[0], inp.shape[1]), 0, dtype=np.uint8)\n",
    "    for i in range(10):\n",
    "        img[i] = (inp==i)\n",
    "    return img\n",
    "\n",
    "def input_output_shape_is_same(task):\n",
    "    return all([np.array(el['input']).shape == np.array(el['output']).shape for el in task['train']])\n",
    "\n",
    "\n",
    "def calk_score(task_test, predict):\n",
    "    return [int(np.equal(sample['output'], pred).all()) for sample, pred in zip(task_test, predict)]\n",
    "\n",
    "def augment(tasks):\n",
    "    # bottom up flipping\n",
    "    tasks_1 = []\n",
    "    for task in tasks:\n",
    "        augmended_task = {}\n",
    "        augmended_task['input'] = task['input'][::-1]\n",
    "        augmended_task['output'] = task['output'][::-1]\n",
    "        tasks_1.append(augmended_task)\n",
    "        \n",
    "    \n",
    "    tasks_2 = []\n",
    "    for task in tasks:\n",
    "        augmended_task = {}\n",
    "        augmended_task['input'] = task['input'][::-1]\n",
    "        augmended_task['output'] = task['output'][::-1]\n",
    "        for ii in range(len(augmended_task['output'])):\n",
    "            augmended_task['output'][ii] = augmended_task['output'][ii][::-1]\n",
    "        for ii in range(len(augmended_task['input'])):\n",
    "            augmended_task['input'][ii] = augmended_task['input'][ii][::-1]\n",
    "            \n",
    "        tasks_2.append(augmended_task)\n",
    "        \n",
    "    tasks_3 = []\n",
    "    for task in tasks:\n",
    "        augmended_task = {}\n",
    "        augmended_task['input'] = []\n",
    "        augmended_task['output'] = []\n",
    "        for ii in range(len(task['output'])):\n",
    "            augmended_task['output'].append(task['output'][ii][::-1])\n",
    "            augmended_task['input'].append(task['input'][ii][::-1])\n",
    "\n",
    "        tasks_3.append(augmended_task)\n",
    "    \n",
    "    \n",
    "    return tasks + tasks_1 + tasks_2 + tasks_3\n",
    "    "
   ]
  },
  {
   "cell_type": "code",
   "execution_count": 6,
   "metadata": {},
   "outputs": [],
   "source": [
    "tasks = train_tasks[\"00d62c1b\"][\"train\"]\n",
    "task = augment(tasks)\n",
    "#[0,1,2,3,4,5]\n",
    "#[0,1,2,3,4,5][::-1]"
   ]
  },
  {
   "cell_type": "markdown",
   "metadata": {},
   "source": [
    "## First Task: db3e9e38\n",
    "\n",
    "The task we'll first try is relitively straight foward; given a central orange \"pillar\", form stairs of alternating blue and orange in each direction. `arseny-n` showed that this could be solved with a CA consisting of three rules."
   ]
  },
  {
   "cell_type": "code",
   "execution_count": 7,
   "metadata": {},
   "outputs": [
    {
     "data": {
      "image/png": "[encoded data removed]",
      "text/plain": [
       "<Figure size 288x2304 with 2 Axes>"
      ]
     },
     "metadata": {
      "needs_background": "light"
     },
     "output_type": "display_data"
    },
    {
     "data": {
      "image/png": "[encoded data removed]",
      "text/plain": [
       "<Figure size 288x2304 with 2 Axes>"
      ]
     },
     "metadata": {
      "needs_background": "light"
     },
     "output_type": "display_data"
    },
    {
     "data": {
      "image/png": "[encoded data removed]",
      "text/plain": [
       "<Figure size 288x2304 with 2 Axes>"
      ]
     },
     "metadata": {
      "needs_background": "light"
     },
     "output_type": "display_data"
    },
    {
     "data": {
      "image/png": "[encoded data removed]",
      "text/plain": [
       "<Figure size 288x2304 with 2 Axes>"
      ]
     },
     "metadata": {
      "needs_background": "light"
     },
     "output_type": "display_data"
    },
    {
     "data": {
      "image/png": "[encoded data removed]",
      "text/plain": [
       "<Figure size 288x2304 with 2 Axes>"
      ]
     },
     "metadata": {
      "needs_background": "light"
     },
     "output_type": "display_data"
    },
    {
     "data": {
      "image/png": "[encoded data removed]",
      "text/plain": [
       "<Figure size 288x2304 with 2 Axes>"
      ]
     },
     "metadata": {
      "needs_background": "light"
     },
     "output_type": "display_data"
    },
    {
     "data": {
      "image/png": "[encoded data removed]",
      "text/plain": [
       "<Figure size 288x2304 with 2 Axes>"
      ]
     },
     "metadata": {
      "needs_background": "light"
     },
     "output_type": "display_data"
    },
    {
     "data": {
      "image/png": "[encoded data removed]",
      "text/plain": [
       "<Figure size 288x2304 with 2 Axes>"
      ]
     },
     "metadata": {
      "needs_background": "light"
     },
     "output_type": "display_data"
    },
    {
     "data": {
      "image/png": "[encoded data removed]",
      "text/plain": [
       "<Figure size 288x2304 with 2 Axes>"
      ]
     },
     "metadata": {
      "needs_background": "light"
     },
     "output_type": "display_data"
    },
    {
     "data": {
      "image/png": "[encoded data removed]",
      "text/plain": [
       "<Figure size 288x2304 with 2 Axes>"
      ]
     },
     "metadata": {
      "needs_background": "light"
     },
     "output_type": "display_data"
    },
    {
     "data": {
      "image/png": "[encoded data removed]",
      "text/plain": [
       "<Figure size 288x2304 with 2 Axes>"
      ]
     },
     "metadata": {
      "needs_background": "light"
     },
     "output_type": "display_data"
    },
    {
     "data": {
      "image/png": "[encoded data removed]",
      "text/plain": [
       "<Figure size 288x2304 with 2 Axes>"
      ]
     },
     "metadata": {
      "needs_background": "light"
     },
     "output_type": "display_data"
    },
    {
     "data": {
      "image/png": "[encoded data removed]",
      "text/plain": [
       "<Figure size 288x2304 with 2 Axes>"
      ]
     },
     "metadata": {
      "needs_background": "light"
     },
     "output_type": "display_data"
    },
    {
     "data": {
      "image/png": "[encoded data removed]",
      "text/plain": [
       "<Figure size 288x2304 with 2 Axes>"
      ]
     },
     "metadata": {
      "needs_background": "light"
     },
     "output_type": "display_data"
    },
    {
     "data": {
      "image/png": "[encoded data removed]",
      "text/plain": [
       "<Figure size 288x2304 with 2 Axes>"
      ]
     },
     "metadata": {
      "needs_background": "light"
     },
     "output_type": "display_data"
    },
    {
     "data": {
      "image/png": "[encoded data removed]",
      "text/plain": [
       "<Figure size 288x2304 with 2 Axes>"
      ]
     },
     "metadata": {
      "needs_background": "light"
     },
     "output_type": "display_data"
    },
    {
     "data": {
      "image/png": "[encoded data removed]",
      "text/plain": [
       "<Figure size 288x2304 with 2 Axes>"
      ]
     },
     "metadata": {
      "needs_background": "light"
     },
     "output_type": "display_data"
    },
    {
     "data": {
      "image/png": "[encoded data removed]",
      "text/plain": [
       "<Figure size 288x2304 with 2 Axes>"
      ]
     },
     "metadata": {
      "needs_background": "light"
     },
     "output_type": "display_data"
    },
    {
     "data": {
      "image/png": "[encoded data removed]",
      "text/plain": [
       "<Figure size 288x2304 with 2 Axes>"
      ]
     },
     "metadata": {
      "needs_background": "light"
     },
     "output_type": "display_data"
    },
    {
     "data": {
      "image/png": "[encoded data removed]",
      "text/plain": [
       "<Figure size 288x2304 with 2 Axes>"
      ]
     },
     "metadata": {
      "needs_background": "light"
     },
     "output_type": "display_data"
    }
   ],
   "source": [
    "#task = train_tasks[\"00d62c1b\"][\"train\"]\n",
    "for sample in task:\n",
    "    plot_sample(sample)"
   ]
  },
  {
   "cell_type": "markdown",
   "metadata": {},
   "source": [
    "## The Model\n",
    "\n",
    "The model consists of a single 3x3 convolutional layer, followed by a 1x1 convolutional layer, just like my last notebook. Here `num_states` represents how many values a single cell could have; in this case 10, one for each color. Down the road, we may want to add a hidden state, concatinating it to the input, then removing it from the output.\n",
    "\n",
    "The foward pass of the model will repeatedly pass the grid state through the CA transition for `steps` number of times."
   ]
  },
  {
   "cell_type": "code",
   "execution_count": 8,
   "metadata": {},
   "outputs": [],
   "source": [
    "class CAModel(nn.Module):\n",
    "    def __init__(self, num_states):\n",
    "        super(CAModel, self).__init__()\n",
    "        self.transition = nn.Sequential(\n",
    "            nn.Conv2d(num_states, 128, kernel_size=5, padding=2),     \n",
    "            nn.ReLU(),\n",
    "            nn.Dropout(0.05),\n",
    "            nn.Conv2d(128, num_states, kernel_size=1)\n",
    "        )\n",
    "        \n",
    "    def forward(self, x, steps=1):\n",
    "        for _ in range(steps):\n",
    "            x = self.transition(torch.softmax(x, dim=1))\n",
    "        return x\n",
    "    \n",
    "# class CAModel(nn.Module):\n",
    "#     def __init__(self, num_states):\n",
    "#         super(CAModel, self).__init__()\n",
    "        \n",
    "#         self.conv1 = nn.Conv2d(num_states, 128, kernel_size=5, padding=2)   \n",
    "#         self.conv2 = nn.Conv2d(128, num_states, kernel_size=1)\n",
    "        \n",
    "#         #F.conv2d(input, weight, bias=None, stride=1, padding=2, dilation=1, \n",
    "                 \n",
    "#     def forward(self, x, steps=1):\n",
    "#         for _ in range(steps):\n",
    "\n",
    "#             x = self.conv1(F.softmax(x, dim=1))\n",
    "#             x = self.conv2(F.sigmoid(x))\n",
    "#         return x\n",
    "    "
   ]
  },
  {
   "cell_type": "markdown",
   "metadata": {},
   "source": [
    "## Training\n",
    "\n",
    "This \"recurrent CNN\" can be quite to difficult to train. After trying a few ideas, this seemed to be the best approach that I encountered:\n",
    "\n",
    "* For every value $n$ = $1, ..., N$:\n",
    "    1. Train the model with $n$ `steps` to produce the output from input\n",
    "    2. Train the model with 1 `steps` to produce output from output\n",
    "        * This enforces that the CA stabilizes after reaching a solution\n",
    "        \n",
    "In this way the model will try to get as close to a solution as possible in 1 step, then try to get closer in the next step, and so on until $N$ steps. For now I will use $N = 10$ = `max_steps`. I will also set the learning rate to decay with each additional step: $LR = 0.1 / (n * 2) $"
   ]
  },
  {
   "cell_type": "code",
   "execution_count": 9,
   "metadata": {},
   "outputs": [],
   "source": [
    "def solve_task(task, max_steps=10):\n",
    "    model = CAModel(10).to(device)\n",
    "    model = model.train()\n",
    "    num_epochs = 100\n",
    "    criterion = nn.CrossEntropyLoss()\n",
    "    losses = np.zeros((max_steps - 1) * num_epochs)\n",
    "\n",
    "    for num_steps in range(1, max_steps):\n",
    "        optimizer = torch.optim.Adam(model.parameters(), lr=(0.1 / (num_steps * 2)))\n",
    "        \n",
    "        for e in range(num_epochs):\n",
    "            optimizer.zero_grad()\n",
    "            loss = 0.0\n",
    "\n",
    "            for sample in task:\n",
    "                # predict output from input\n",
    "                x = torch.from_numpy(inp2img(sample[\"input\"])).unsqueeze(0).float().to(device)\n",
    "                y = torch.tensor(sample[\"output\"]).long().unsqueeze(0).to(device)\n",
    "                y_pred = model(x, num_steps)\n",
    "                loss += criterion(y_pred, y)\n",
    "                \n",
    "                # predit output from output\n",
    "                # enforces stability after solution is reached\n",
    "                y_in = torch.from_numpy(inp2img(sample[\"output\"])).unsqueeze(0).float().to(device)\n",
    "                y_pred = model(y_in, 1) \n",
    "                loss += criterion(y_pred, y)\n",
    "#                 lamb = torch.tensor(0.02).float().to(device)\n",
    "#                 l2_reg = torch.tensor(0.).float().to(device)\n",
    "#                 for param in model.parameters():\n",
    "#                     l2_reg += torch.norm(param)\n",
    "#                 loss += lamb * l2_reg\n",
    "\n",
    "            loss.backward()\n",
    "            optimizer.step()\n",
    "            losses[(num_steps - 1) * num_epochs + e] = loss.item()\n",
    "    return model, num_steps, losses\n",
    "                "
   ]
  },
  {
   "cell_type": "code",
   "execution_count": 10,
   "metadata": {},
   "outputs": [],
   "source": [
    "@torch.no_grad()\n",
    "def predict(model, task):\n",
    "    predictions = []\n",
    "    for sample in task:\n",
    "        x = torch.from_numpy(inp2img(sample[\"input\"])).unsqueeze(0).float().to(device)\n",
    "        pred = model(x, 100).argmax(1).squeeze().cpu().numpy()\n",
    "        predictions.append(pred)\n",
    "    return predictions\n",
    "    "
   ]
  },
  {
   "cell_type": "code",
   "execution_count": null,
   "metadata": {},
   "outputs": [
    {
     "name": "stdout",
     "output_type": "stream",
     "text": [
      "> \u001b[0;32m<ipython-input-9-873b3491ab42>\u001b[0m(27)\u001b[0;36msolve_task\u001b[0;34m()\u001b[0m\n",
      "\u001b[0;32m     26 \u001b[0;31m                \u001b[0;32mimport\u001b[0m \u001b[0mipdb\u001b[0m\u001b[0;34m;\u001b[0m \u001b[0mipdb\u001b[0m\u001b[0;34m.\u001b[0m\u001b[0mset_trace\u001b[0m\u001b[0;34m(\u001b[0m\u001b[0;34m)\u001b[0m\u001b[0;34m\u001b[0m\u001b[0;34m\u001b[0m\u001b[0m\n",
      "\u001b[0m\u001b[0;32m---> 27 \u001b[0;31m                \u001b[0mloss\u001b[0m \u001b[0;34m+=\u001b[0m \u001b[0mcriterion\u001b[0m\u001b[0;34m(\u001b[0m\u001b[0my_pred\u001b[0m\u001b[0;34m,\u001b[0m \u001b[0my\u001b[0m\u001b[0;34m)\u001b[0m\u001b[0;34m\u001b[0m\u001b[0;34m\u001b[0m\u001b[0m\n",
      "\u001b[0m\u001b[0;32m     28 \u001b[0;31m\u001b[0;31m#                 lamb = torch.tensor(0.02).float().to(device)\u001b[0m\u001b[0;34m\u001b[0m\u001b[0;34m\u001b[0m\u001b[0;34m\u001b[0m\u001b[0m\n",
      "\u001b[0m\n",
      "ipdb> y_pred\n",
      "tensor([[[[-0.0023, -0.0047, -0.0028,  0.0024,  0.0039,  0.0024],\n",
      "          [ 0.0071,  0.0014, -0.0227, -0.0009,  0.0076,  0.0023],\n",
      "          [-0.0043, -0.0067, -0.0276, -0.0180,  0.0053, -0.0055],\n",
      "          [-0.0077, -0.0171, -0.0251, -0.0249, -0.0013,  0.0044],\n",
      "          [ 0.0069,  0.0128, -0.0074, -0.0232,  0.0153,  0.0081],\n",
      "          [ 0.0032,  0.0079,  0.0122,  0.0010,  0.0164,  0.0075]],\n",
      "\n",
      "         [[-0.0704, -0.0647, -0.0684, -0.0686, -0.0676, -0.0574],\n",
      "          [-0.0730, -0.0518, -0.0595, -0.0733, -0.0583, -0.0533],\n",
      "          [-0.0496, -0.0309, -0.0610, -0.0527, -0.0283, -0.0500],\n",
      "          [-0.0666, -0.0520, -0.0347, -0.0519, -0.0349, -0.0435],\n",
      "          [-0.0343, -0.0450, -0.0422, -0.0361, -0.0355, -0.0501],\n",
      "          [-0.0581, -0.0503, -0.0504, -0.0576, -0.0490, -0.0479]],\n",
      "\n",
      "         [[-0.0314, -0.0319, -0.0392, -0.0401, -0.0357, -0.0387],\n",
      "          [-0.0040, -0.0246, -0.0156, -0.0090, -0.0135, -0.0319],\n",
      "          [-0.0107, -0.0076, -0.0082, -0.0180, -0.0028, -0.0247],\n",
      "          [-0.0124, -0.0151, -0.0127, -0.0186, -0.0280, -0.0331],\n",
      "          [-0.0318, -0.0221, -0.0308, -0.0287, -0.0219, -0.0424],\n",
      "          [-0.0126, -0.0340, -0.0214, -0.0251, -0.0434, -0.0384]],\n",
      "\n",
      "         [[ 0.0317,  0.0276,  0.0370,  0.0272,  0.0307,  0.0115],\n",
      "          [ 0.0407,  0.0268,  0.0250,  0.0159,  0.0222,  0.0116],\n",
      "          [ 0.0273,  0.0138,  0.0139,  0.0082,  0.0142,  0.0075],\n",
      "          [ 0.0292,  0.0084,  0.0103,  0.0236,  0.0059,  0.0033],\n",
      "          [ 0.0225,  0.0231,  0.0245,  0.0263,  0.0178,  0.0261],\n",
      "          [ 0.0196,  0.0208,  0.0083,  0.0054,  0.0162,  0.0169]],\n",
      "\n",
      "         [[-0.0541, -0.0612, -0.0527, -0.0585, -0.0571, -0.0621],\n",
      "          [-0.0466, -0.0413, -0.0808, -0.0448, -0.0696, -0.0575],\n",
      "          [-0.0287, -0.0499, -0.0531, -0.0591, -0.0457, -0.0552],\n",
      "          [-0.0303, -0.0293, -0.0519, -0.0252, -0.0603, -0.0669],\n",
      "          [-0.0362, -0.0533, -0.0364, -0.0217, -0.0354, -0.0590],\n",
      "          [-0.0367, -0.0381, -0.0382, -0.0427, -0.0465, -0.0486]],\n",
      "\n",
      "         [[ 0.0188,  0.0173,  0.0162,  0.0182,  0.0206,  0.0080],\n",
      "          [ 0.0483,  0.0340,  0.0218,  0.0337,  0.0228,  0.0024],\n",
      "          [ 0.0576,  0.0675,  0.0520,  0.0369,  0.0158,  0.0042],\n",
      "          [ 0.0555,  0.0642,  0.0571,  0.0599,  0.0390,  0.0112],\n",
      "          [ 0.0398,  0.0435,  0.0476,  0.0587,  0.0284,  0.0171],\n",
      "          [ 0.0379,  0.0318,  0.0417,  0.0425,  0.0324,  0.0128]],\n",
      "\n",
      "         [[ 0.0812,  0.0852,  0.0682,  0.0762,  0.0743,  0.0566],\n",
      "          [ 0.0878,  0.0836,  0.1147,  0.0857,  0.0892,  0.0622],\n",
      "          [ 0.0808,  0.0993,  0.0723,  0.1107,  0.0837,  0.0943],\n",
      "          [ 0.0649,  0.0824,  0.1020,  0.0732,  0.0984,  0.0585],\n",
      "          [ 0.0666,  0.0836,  0.0806,  0.1016,  0.0809,  0.0815],\n",
      "          [ 0.0764,  0.0952,  0.0982,  0.0928,  0.0884,  0.0799]],\n",
      "\n",
      "         [[ 0.0499,  0.0524,  0.0574,  0.0562,  0.0556,  0.0711],\n",
      "          [ 0.0618,  0.0637,  0.0713,  0.0535,  0.0778,  0.0727],\n",
      "          [ 0.0665,  0.0714,  0.0665,  0.0684,  0.0627,  0.0628],\n",
      "          [ 0.0659,  0.0763,  0.0768,  0.0694,  0.0671,  0.0606],\n",
      "          [ 0.0873,  0.0812,  0.0852,  0.0892,  0.0849,  0.0690],\n",
      "          [ 0.0586,  0.0787,  0.0811,  0.0917,  0.0856,  0.0709]],\n",
      "\n",
      "         [[ 0.0085,  0.0095,  0.0254,  0.0148,  0.0225,  0.0320],\n",
      "          [ 0.0199,  0.0248,  0.0055,  0.0275,  0.0316,  0.0313],\n",
      "          [ 0.0042,  0.0098,  0.0387,  0.0301,  0.0457,  0.0560],\n",
      "          [ 0.0258,  0.0134,  0.0291,  0.0548,  0.0439,  0.0591],\n",
      "          [ 0.0203,  0.0076,  0.0319,  0.0249,  0.0382,  0.0460],\n",
      "          [ 0.0237,  0.0077,  0.0082,  0.0232,  0.0476,  0.0470]],\n",
      "\n",
      "         [[-0.1077, -0.1074, -0.0930, -0.0959, -0.0912, -0.0784],\n",
      "          [-0.0974, -0.1193, -0.1168, -0.1115, -0.1042, -0.0989],\n",
      "          [-0.0997, -0.1170, -0.0846, -0.1188, -0.0964, -0.1035],\n",
      "          [-0.1036, -0.1182, -0.1027, -0.1006, -0.0957, -0.0803],\n",
      "          [-0.0935, -0.1103, -0.1013, -0.1035, -0.0760, -0.0947],\n",
      "          [-0.0804, -0.1121, -0.1046, -0.0974, -0.0868, -0.0860]]]],\n",
      "       grad_fn=<ThnnConv2DBackward>)\n",
      "ipdb> y_pred.shape\n",
      "torch.Size([1, 10, 6, 6])\n",
      "ipdb> y.shape\n",
      "torch.Size([1, 6, 6])\n",
      "ipdb> y\n",
      "tensor([[[0, 0, 0, 0, 0, 0],\n",
      "         [0, 0, 3, 0, 0, 0],\n",
      "         [0, 3, 4, 3, 0, 0],\n",
      "         [0, 0, 3, 4, 3, 0],\n",
      "         [0, 0, 0, 3, 0, 0],\n",
      "         [0, 0, 0, 0, 0, 0]]])\n",
      "ipdb> model(x, 1).argmax(1).squeeze().cpu().numpy()\n",
      "array([[6, 6, 6, 6, 6, 7],\n",
      "       [6, 6, 6, 6, 6, 7],\n",
      "       [6, 6, 6, 6, 6, 6],\n",
      "       [6, 7, 6, 6, 6, 6],\n",
      "       [7, 6, 7, 6, 7, 6],\n",
      "       [6, 6, 6, 6, 6, 6]])\n"
     ]
    }
   ],
   "source": [
    "#task = train_tasks[\"00d62c1b\"][\"train\"]\n",
    "model, num_steps, losses = solve_task(task)"
   ]
  },
  {
   "cell_type": "markdown",
   "metadata": {},
   "source": [
    "$n$ is incremented every 100 epochs, so we can see that it reaches a good solution after 3 steps (epoch 300)."
   ]
  },
  {
   "cell_type": "markdown",
   "metadata": {},
   "source": [
    "Now lets see if it at least correctly outputs the training set. To be save we'll give the model $n=100$ steps:"
   ]
  },
  {
   "cell_type": "code",
   "execution_count": null,
   "metadata": {},
   "outputs": [],
   "source": [
    "predictions = predict(model.eval(), task)\n",
    "for i in range(len(task)):\n",
    "    plot_sample(task[i], predictions[i])"
   ]
  },
  {
   "cell_type": "markdown",
   "metadata": {},
   "source": [
    "It works! Now lets see if it generalized to the test question:"
   ]
  },
  {
   "cell_type": "code",
   "execution_count": null,
   "metadata": {},
   "outputs": [],
   "source": [
    "test = train_tasks[\"00d62c1b\"][\"test\"]\n",
    "predictions = predict(model.eval(), test)\n",
    "for i in range(len(test)):\n",
    "    plot_sample(test[i], predictions[i])"
   ]
  },
  {
   "cell_type": "markdown",
   "metadata": {},
   "source": [
    "Fantastic! The coolest part now is that we can animate our solution to see the CA in action:"
   ]
  },
  {
   "cell_type": "code",
   "execution_count": null,
   "metadata": {},
   "outputs": [],
   "source": [
    "def animate_solution(model, sample):\n",
    "    x = torch.from_numpy(inp2img(sample[\"input\"])).unsqueeze(0).float().to(device)\n",
    "\n",
    "    @torch.no_grad()\n",
    "    def animate(i):\n",
    "        pred = model(x, i)\n",
    "        im.set_data(pred.argmax(1).squeeze().cpu().numpy())\n",
    "\n",
    "    fig, ax = plt.subplots()\n",
    "    im = ax.imshow(x.argmax(1).squeeze().cpu().numpy(), cmap=cmap, norm=norm)\n",
    "    return animation.FuncAnimation(fig, animate, frames=100, interval=120)\n",
    "    \n",
    "anim = animate_solution(model.eval(), train_tasks[\"00d62c1b\"][\"test\"][0])\n",
    "HTML(anim.to_jshtml())"
   ]
  },
  {
   "cell_type": "markdown",
   "metadata": {},
   "source": [
    "We can see that the CA quickly gets to a solution and then stabilizes."
   ]
  },
  {
   "cell_type": "markdown",
   "metadata": {},
   "source": [
    "## More Tasks\n",
    "\n",
    "Now that we know we can train a CA for one task, will it work on others?"
   ]
  },
  {
   "cell_type": "code",
   "execution_count": null,
   "metadata": {},
   "outputs": [],
   "source": [
    "def evaluate(tasks):\n",
    "    result = []\n",
    "    predictions = []\n",
    "    for idx, task in tqdm(tasks.items()):\n",
    "        if input_output_shape_is_same(task):\n",
    "            model, _, _ = solve_task(task[\"train\"])\n",
    "            pred = predict(model, task[\"test\"])\n",
    "            score = calk_score(task[\"test\"], pred)\n",
    "        else:\n",
    "            pred = [el[\"input\"] for el in task[\"test\"]]\n",
    "            score = [0] * len(task[\"test\"])\n",
    "\n",
    "        predictions.append(pred)\n",
    "        result.append(score)\n",
    "    return result, predictions"
   ]
  },
  {
   "cell_type": "code",
   "execution_count": null,
   "metadata": {},
   "outputs": [],
   "source": [
    "train_result, train_predictions = evaluate(train_tasks)\n",
    "train_solved = [any(score) for score in train_result]\n",
    "\n",
    "total = sum([len(score) for score in train_result])\n",
    "print(f\"solved : {sum(train_solved)} from {total} ({sum(train_solved)/total})\")"
   ]
  },
  {
   "cell_type": "markdown",
   "metadata": {},
   "source": [
    "We solve many of the tasks within the training set using our Neural Cellular Automata model! I did test on the validation set as well, and it correctly solved 17 of the tasks. There are a number of ways this model could be improved. Please let me know if you'd be interested in collaboration!\n",
    "\n",
    "## Solved Tasks"
   ]
  },
  {
   "cell_type": "code",
   "execution_count": null,
   "metadata": {},
   "outputs": [],
   "source": [
    "for task, prediction, solved in tqdm(zip(train_tasks.values(), train_predictions, train_solved)):\n",
    "    #if solved:\n",
    "    for i in range(len(task['train'])):\n",
    "        plot_sample(task['train'][i])\n",
    "            \n",
    "    for i in range(len(task['test'])):\n",
    "        plot_sample(task['test'][i], prediction[i])"
   ]
  },
  {
   "cell_type": "markdown",
   "metadata": {},
   "source": [
    "That's all for now, thanks for reading!"
   ]
  },
  {
   "cell_type": "code",
   "execution_count": null,
   "metadata": {},
   "outputs": [],
   "source": []
  },
  {
   "cell_type": "code",
   "execution_count": null,
   "metadata": {},
   "outputs": [],
   "source": []
  }
 ],
 "metadata": {
  "kernelspec": {
   "display_name": "Python 3",
   "language": "python",
   "name": "python3"
  },
  "language_info": {
   "codemirror_mode": {
    "name": "ipython",
    "version": 3
   },
   "file_extension": ".py",
   "mimetype": "text/x-python",
   "name": "python",
   "nbconvert_exporter": "python",
   "pygments_lexer": "ipython3",
   "version": "3.7.7"
  }
 },
 "nbformat": 4,
 "nbformat_minor": 4
}
